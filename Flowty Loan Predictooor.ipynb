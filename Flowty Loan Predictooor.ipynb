{
 "cells": [
  {
   "cell_type": "code",
   "execution_count": null,
   "id": "fd31ab4c",
   "metadata": {},
   "outputs": [],
   "source": [
    "# importing nescessary libabries\n",
    "import pandas as pd\n",
    "import numpy as np\n",
    "import matplotlib.pyplot as plt\n",
    "import seaborn as sns\n",
    "import warnings\n",
    "\n",
    "warnings.filterwarnings('ignore')"
   ]
  },
  {
   "cell_type": "code",
   "execution_count": null,
   "id": "3d4517c7",
   "metadata": {},
   "outputs": [],
   "source": [
    "# Load the CSV file\n",
    "data_df = pd.read_csv('flowty_loan_indexer.csv')\n",
    "\n",
    "# Removing invalid data from the csv , this usually happens with the last row of every csv you download from Flipside\n",
    "data_df = data_df[data_df['LISTING_DATE'] != \"\\ufeff\"]\n"
   ]
  },
  {
   "cell_type": "code",
   "execution_count": null,
   "id": "a1159c41",
   "metadata": {
    "scrolled": true
   },
   "outputs": [],
   "source": [
    "# Check the shape of the dataset\n",
    "print(data_df.shape)"
   ]
  },
  {
   "cell_type": "code",
   "execution_count": null,
   "id": "95096300",
   "metadata": {
    "scrolled": true
   },
   "outputs": [],
   "source": [
    "# Get basic statistics\n",
    "print(data_df.describe())"
   ]
  },
  {
   "cell_type": "code",
   "execution_count": null,
   "id": "a25f5606",
   "metadata": {
    "scrolled": true
   },
   "outputs": [],
   "source": [
    "# Check data types\n",
    "print(data_df.dtypes)"
   ]
  },
  {
   "cell_type": "code",
   "execution_count": null,
   "id": "8683a3c1",
   "metadata": {
    "scrolled": true
   },
   "outputs": [],
   "source": [
    "# Convert date-related columns to datetime format\n",
    "date_columns = [\n",
    "    'LISTING_DATE', 'LISTING_EXPIRY_DATE', 'FUNDING_DATE', \n",
    "    'LOAN_SETTLEMENT_DATE', 'LIQUDATION_DATE', 'REPAYMENT_DATE'\n",
    "]\n",
    "\n",
    "for column in date_columns:\n",
    "    data_df[column] = pd.to_datetime(data_df[column])\n",
    "\n",
    "# Verify the changes by checking the data types again\n",
    "print(data_df.dtypes)"
   ]
  },
  {
   "cell_type": "code",
   "execution_count": null,
   "id": "74973fa2",
   "metadata": {},
   "outputs": [],
   "source": [
    "# Function to check if a date string is valid\n",
    "def is_valid_date(date_str):\n",
    "    try:\n",
    "        pd.to_datetime(date_str)\n",
    "        return True\n",
    "    except:\n",
    "        return False\n",
    "\n",
    "# Identify invalid date formats in each date column\n",
    "invalid_date_rows = {}\n",
    "\n",
    "for column in date_columns:\n",
    "    invalid_rows = data_df[~data_df[column].apply(is_valid_date)]\n",
    "    if not invalid_rows.empty:\n",
    "        invalid_date_rows[column] = invalid_rows[[column]]\n",
    "\n",
    "invalid_date_rows"
   ]
  },
  {
   "cell_type": "code",
   "execution_count": null,
   "id": "1a82840e",
   "metadata": {},
   "outputs": [],
   "source": [
    "# Check for missing values\n",
    "missing_values = data_df.isnull().sum()\n",
    "print(missing_values)"
   ]
  },
  {
   "cell_type": "code",
   "execution_count": null,
   "id": "1a28102a",
   "metadata": {},
   "outputs": [],
   "source": [
    "# Handling Funding-Related Columns\n",
    "data_df.loc[:, 'FUNDING_DATE'].fillna('2099-01-01', inplace=True)  # Placeholder date\n",
    "data_df.loc[:, 'LOAN_SETTLEMENT_DATE'].fillna('2099-01-01', inplace=True)\n",
    "data_df.loc[:, ['FUNDINGRESOURCEID', 'EXPECTEDREPAYMENTAMOUNT', 'EXPECTED_REPAYMENT_AMOUNT_IN_USD']].fillna(-1, inplace=True)\n",
    "data_df.loc[:, ['BORROWER', 'LENDER']].fillna('Unfunded', inplace=True)\n",
    "\n",
    "# Handling Liquidation-Related Columns\n",
    "data_df.loc[:, 'LIQUDATION_DATE'].fillna('2099-01-01', inplace=True) \n",
    "data_df.loc[:, ['LIQUIDATEDAMOUNT', 'LIQUIDATED_AMOUNT_IN_USD']].fillna(-1, inplace=True)\n",
    "\n",
    "# Handling Repayment-Related Columns\n",
    "data_df.loc[:, 'REPAYMENT_DATE'].fillna('2099-01-01', inplace=True)\n",
    "data_df.loc[:, ['REPAIDAMOUNT', 'REPAID_AMOUNT_IN_USD']].fillna(-1, inplace=True)\n",
    "\n"
   ]
  },
  {
   "cell_type": "code",
   "execution_count": null,
   "id": "2e464ba6",
   "metadata": {
    "scrolled": true
   },
   "outputs": [],
   "source": [
    "# Handling the non-date columns\n",
    "columns_to_fill_with_minus_one = [\n",
    "    'FUNDINGRESOURCEID', 'EXPECTEDREPAYMENTAMOUNT', \n",
    "    'EXPECTED_REPAYMENT_AMOUNT_IN_USD', 'LIQUIDATEDAMOUNT', \n",
    "    'LIQUIDATED_AMOUNT_IN_USD', 'REPAIDAMOUNT', 'REPAID_AMOUNT_IN_USD'\n",
    "]\n",
    "\n",
    "for column in columns_to_fill_with_minus_one:\n",
    "    data_df[column].fillna(-1, inplace=True)\n",
    "\n",
    "data_df['BORROWER'].fillna('Unfunded', inplace=True)\n",
    "data_df['LENDER'].fillna('Unfunded', inplace=True)\n",
    "\n",
    "# Check for missing values again\n",
    "missing_values_updated = data_df.isnull().sum()\n",
    "missing_values_updated"
   ]
  },
  {
   "cell_type": "markdown",
   "id": "8180d621",
   "metadata": {},
   "source": [
    " Exploratory Data Analysis (EDA) and Visualization:"
   ]
  },
  {
   "cell_type": "code",
   "execution_count": null,
   "id": "4ec12148",
   "metadata": {},
   "outputs": [],
   "source": [
    "data_summary = data_df.describe(include='all')\n",
    "print(data_summary)"
   ]
  },
  {
   "cell_type": "code",
   "execution_count": null,
   "id": "8c002275",
   "metadata": {},
   "outputs": [],
   "source": [
    "# Distribution of Loan Amounts\n",
    "\n",
    "sns.distplot(data_df['AMOUNT_IN_USD'], kde=True)\n",
    "plt.title('Distribution of Loan Amounts in USD')\n",
    "plt.show()\n"
   ]
  },
  {
   "cell_type": "code",
   "execution_count": null,
   "id": "860e65c6",
   "metadata": {},
   "outputs": [],
   "source": [
    "# Since outliers were too much we did log transformation of the data\n",
    "# Apply log transformation to the data\n",
    "log_amount = np.log1p(data_df['AMOUNT_IN_USD'])  # log1p is used to handle zero values\n",
    "\n",
    "sns.distplot(log_amount, kde=True)\n",
    "plt.title('Log-transformed Distribution of Loan Amounts in USD')\n",
    "plt.xlabel('Log(Amount in USD)')\n",
    "plt.show()\n"
   ]
  },
  {
   "cell_type": "code",
   "execution_count": null,
   "id": "74411111",
   "metadata": {},
   "outputs": [],
   "source": [
    "# Loan Status Distribution\n",
    "status_counts = data_df['STATUS'].value_counts()\n",
    "status_counts.plot(kind='bar')\n",
    "plt.title('Loan Status Distribution')\n",
    "plt.ylabel('Number of Loans')\n",
    "plt.show()"
   ]
  },
  {
   "cell_type": "code",
   "execution_count": null,
   "id": "c477deaa",
   "metadata": {
    "scrolled": true
   },
   "outputs": [],
   "source": [
    "\n",
    "log_amount_ir = np.log1p(data_df['INTERESTRATE_IN_PERCENT'])  # log1p is used to handle zero values\n",
    "\n",
    "\n",
    "sns.distplot(log_amount_ir, kde=True)\n",
    "plt.title('Distribution of Interest Rates (%)')\n",
    "plt.show()"
   ]
  },
  {
   "cell_type": "code",
   "execution_count": null,
   "id": "3692afa0",
   "metadata": {
    "scrolled": true
   },
   "outputs": [],
   "source": [
    "corr_columns = [\n",
    "    'LISTING_DATE', 'ISFUNDED', 'ENABLEDAUTOREPAYMENT',  'AMOUNT', 'AMOUNT_IN_USD', \n",
    "    'INTERESTRATE_IN_PERCENT', 'ROYALTYRATE', 'TERM_IN_DAYS', 'EXPECTEDREPAYMENTAMOUNT', \n",
    "    'EXPECTED_REPAYMENT_AMOUNT_IN_USD', 'LIQUIDATED_AMOUNT_IN_USD', \n",
    "    'REPAIDAMOUNT',  'LIQUIDATEDAMOUNT', 'REPAID_AMOUNT_IN_USD'\n",
    "]\n",
    "correlation_matrix = data_df[corr_columns].corr()\n",
    "\n",
    "sns.heatmap(correlation_matrix, annot=True, cmap='coolwarm')\n",
    "plt.title('Correlation Heatmap')\n",
    "plt.show() "
   ]
  },
  {
   "cell_type": "code",
   "execution_count": null,
   "id": "e9e463ae",
   "metadata": {},
   "outputs": [],
   "source": [
    "# Correlation Matrix with better formatting \n",
    "plt.figure(figsize=(15, 10))\n",
    "\n",
    "# Mask for the upper triangle\n",
    "mask = np.triu(np.ones_like(correlation_matrix, dtype=bool))\n",
    "\n",
    "# Setting up the seaborn heatmap\n",
    "sns.heatmap(correlation_matrix, \n",
    "            annot=True, \n",
    "            cmap='coolwarm', \n",
    "            fmt=\".2f\", \n",
    "            mask=mask, \n",
    "            linewidths=0.5, \n",
    "            cbar_kws={\"shrink\": 0.75})\n",
    "\n",
    "plt.title('Correlation Heatmap', fontsize=15)\n",
    "plt.xticks(fontsize=10)\n",
    "plt.yticks(fontsize=10)\n",
    "plt.tight_layout()\n",
    "plt.show()\n"
   ]
  },
  {
   "cell_type": "code",
   "execution_count": null,
   "id": "ddf4e9f6",
   "metadata": {
    "scrolled": true
   },
   "outputs": [],
   "source": [
    "# Example: Total loan amounts over time\n",
    "time_series_data = data_df.groupby('LISTING_DATE')['AMOUNT_IN_USD'].sum()\n",
    "time_series_data.plot()\n",
    "plt.title('Total Loan Amounts Over Time')\n",
    "plt.ylabel('Total Amount in USD')\n",
    "plt.show()"
   ]
  },
  {
   "cell_type": "code",
   "execution_count": null,
   "id": "6b29a138",
   "metadata": {
    "scrolled": true
   },
   "outputs": [],
   "source": [
    "# Filter data for funded and unfunded loans\n",
    "funded_loans = data_df[data_df['ISFUNDED'] == True]\n",
    "unfunded_loans = data_df[data_df['ISFUNDED'] == False]\n",
    "\n",
    "# Group by LISTING_DATE and sum the AMOUNT_IN_USD\n",
    "time_series_funded = funded_loans.groupby('LISTING_DATE')['AMOUNT_IN_USD'].sum()\n",
    "time_series_unfunded = unfunded_loans.groupby('LISTING_DATE')['AMOUNT_IN_USD'].sum()\n",
    "\n",
    "# Plot\n",
    "plt.figure(figsize=(12, 6))\n",
    "time_series_funded.plot(label='Funded Loans')\n",
    "time_series_unfunded.plot(label='Unfunded Loans')\n",
    "plt.title('Total Loan Amounts Over Time')\n",
    "plt.ylabel('Total Amount in USD')\n",
    "plt.xlabel('Listing Date')\n",
    "plt.legend()\n",
    "plt.tight_layout()\n",
    "plt.show()\n"
   ]
  },
  {
   "cell_type": "code",
   "execution_count": null,
   "id": "63323b9b",
   "metadata": {
    "scrolled": true
   },
   "outputs": [],
   "source": [
    "\n",
    "\n"
   ]
  },
  {
   "cell_type": "code",
   "execution_count": null,
   "id": "803700dd",
   "metadata": {
    "scrolled": true
   },
   "outputs": [],
   "source": [
    "# Check for missing values\n",
    "missing_values = data_df.isnull().sum()\n",
    "print(missing_values)"
   ]
  }
 ],
 "metadata": {
  "kernelspec": {
   "display_name": "Python 3 (ipykernel)",
   "language": "python",
   "name": "python3"
  },
  "language_info": {
   "codemirror_mode": {
    "name": "ipython",
    "version": 3
   },
   "file_extension": ".py",
   "mimetype": "text/x-python",
   "name": "python",
   "nbconvert_exporter": "python",
   "pygments_lexer": "ipython3",
   "version": "3.10.9"
  }
 },
 "nbformat": 4,
 "nbformat_minor": 5
}
